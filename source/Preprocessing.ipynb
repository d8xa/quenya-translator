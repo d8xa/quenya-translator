{
 "cells": [
  {
   "cell_type": "code",
   "execution_count": 1,
   "id": "a0c90bcb",
   "metadata": {},
   "outputs": [],
   "source": [
    "from pathlib import Path\n",
    "from parsing.structs import Pipeline\n",
    "from parsing.tools import save_dfs, read_txts\n",
    "import parsing.pipes as pipes\n",
    "import pandas as pd"
   ]
  },
  {
   "cell_type": "markdown",
   "id": "fa66ab38",
   "metadata": {},
   "source": [
    "#### Read data"
   ]
  },
  {
   "cell_type": "code",
   "execution_count": 2,
   "id": "ac5b247e-9b32-4d41-94bb-807130d14b80",
   "metadata": {},
   "outputs": [],
   "source": [
    "# output paths for stages in pipeline: \n",
    "stage2_dir = Path(\"..\", \"data\", \"preprocessing\", \"stage 2 - prepared\")\n",
    "stage3_path = Path(\"..\", \"data\", \"preprocessing\", \"stage 3 - verses\", \"verses_df.pkl\")\n",
    "stage4_dir = Path(\"..\", \"data\", \"preprocessing\", \"stage 4 - corpora\")\n",
    "stage5_dir = Path(\"..\", \"data\", \"preprocessing\", \"stage 5 - parallel corpora\")\n",
    "stage6_dir = Path(\"..\", \"data\", \"preprocessing\", \"stage 6 - split\")"
   ]
  },
  {
   "cell_type": "code",
   "execution_count": 3,
   "id": "b9b4740b",
   "metadata": {},
   "outputs": [],
   "source": [
    "txtfiles = [file for file in stage2_dir.iterdir()]\n",
    "texts = read_txts(txtfiles)"
   ]
  },
  {
   "cell_type": "markdown",
   "id": "399cf20e",
   "metadata": {},
   "source": [
    "### Apply preprocessing"
   ]
  },
  {
   "cell_type": "code",
   "execution_count": 4,
   "id": "f28f4ef6-4051-4276-bd92-78f72b316270",
   "metadata": {},
   "outputs": [],
   "source": [
    "def stratify_wordcount(data):\n",
    "    \"\"\"Stratify by word count.\"\"\"\n",
    "    wordcount = data.applymap(lambda x: x.count(\" \")).mean(axis=1) # mean of word count for each verse pair.\n",
    "    return pd.cut(wordcount, 4, labels=False) # into bins."
   ]
  },
  {
   "cell_type": "code",
   "execution_count": 5,
   "id": "971dc681-e84e-4cdf-83dc-a76426243013",
   "metadata": {},
   "outputs": [],
   "source": [
    "stage3 = pipes.FunctionStep(\n",
    "    lambda x: pd.to_pickle(x, stage3_path.as_posix())\n",
    ")\n",
    "\n",
    "stage5 = pipes.FunctionStep(\n",
    "    lambda x: save_dfs(dfs=[x], folder=stage5_dir, filenames=[\"verse-corpus\"])\n",
    ")\n",
    "\n",
    "stage6 = pipes.FunctionStep(\n",
    "    lambda dfs: save_dfs(\n",
    "        dfs, folder=stage6_dir, \n",
    "        filenames=[f\"verse-corpus-{suffix}\" for suffix in [\"train\", \"test\", \"val\"]])\n",
    ")"
   ]
  },
  {
   "cell_type": "code",
   "execution_count": 9,
   "id": "baa6f1fc",
   "metadata": {
    "tags": []
   },
   "outputs": [],
   "source": [
    "pipeline = Pipeline([\n",
    "    (\"create documents\", pipes.DocumentMatcher()),\n",
    "    (\"extract paragraphs\", pipes.ParagraphMatcher()),\n",
    "    (\"extract verses\", pipes.VerseMatcher()),\n",
    "    (\"language tag paragraphs\", pipes.ParagraphLanguageTagger()),\n",
    "    (\"language tag verses\", pipes.VerseLanguageTagger()),\n",
    "    (\"extract verses to DataFrame\", pipes.DataframeTransformer()),\n",
    "    (\"replace annotation\", pipes.CleanupStep()),\n",
    "#    (\"savepoint (pickle)\", stage3),\n",
    "    (\"to parallel corpora\", pipes.ParallelCorpusTransformer()),\n",
    "#    (\"savepoint (csv)\", stage5),\n",
    "    (\"split dataset\", pipes.TrainTestValSplitter(stratify_function=stratify_wordcount)),\n",
    "#    (\"savepoint (csv)\", stage6),\n",
    "])"
   ]
  },
  {
   "cell_type": "code",
   "execution_count": 10,
   "id": "b3e264c2",
   "metadata": {},
   "outputs": [],
   "source": [
    "processed = pipeline.process(texts)"
   ]
  }
 ],
 "metadata": {
  "kernelspec": {
   "display_name": "Python 3",
   "language": "python",
   "name": "python3"
  },
  "language_info": {
   "codemirror_mode": {
    "name": "ipython",
    "version": 3
   },
   "file_extension": ".py",
   "mimetype": "text/x-python",
   "name": "python",
   "nbconvert_exporter": "python",
   "pygments_lexer": "ipython3",
   "version": "3.6.12"
  }
 },
 "nbformat": 4,
 "nbformat_minor": 5
}
