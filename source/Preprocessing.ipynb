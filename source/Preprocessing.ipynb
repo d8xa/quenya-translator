{
 "cells": [
  {
   "cell_type": "code",
   "execution_count": 1,
   "id": "a0c90bcb",
   "metadata": {},
   "outputs": [],
   "source": [
    "from pathlib import Path\n",
    "from parsing.structs import Pipeline\n",
    "import parsing.pipes as pipes\n",
    "import pandas as pd"
   ]
  },
  {
   "cell_type": "markdown",
   "id": "fa66ab38",
   "metadata": {},
   "source": [
    "#### Read data"
   ]
  },
  {
   "cell_type": "code",
   "execution_count": 2,
   "id": "3f005397",
   "metadata": {},
   "outputs": [],
   "source": [
    "def read_txts(paths):\n",
    "    texts = []\n",
    "    for path in paths:\n",
    "        with path.open(\"rb\") as f:\n",
    "            texts.append(f.read().decode())\n",
    "            \n",
    "    return texts"
   ]
  },
  {
   "cell_type": "code",
   "execution_count": 3,
   "id": "b9b4740b",
   "metadata": {},
   "outputs": [],
   "source": [
    "txtdir = Path(\"..\", \"data\", \"aligned\")\n",
    "txtfiles = [file for file in txtdir.iterdir()]\n",
    "texts = read_txts(txtfiles)"
   ]
  },
  {
   "cell_type": "code",
   "execution_count": 4,
   "id": "80ed95b7",
   "metadata": {},
   "outputs": [],
   "source": [
    "dfpath = Path(\"..\", \"data\", \"preprocessed\", \"verses_df.pkl\")"
   ]
  },
  {
   "cell_type": "markdown",
   "id": "399cf20e",
   "metadata": {},
   "source": [
    "### Apply preprocessing"
   ]
  },
  {
   "cell_type": "code",
   "execution_count": 18,
   "id": "920d12e0",
   "metadata": {},
   "outputs": [],
   "source": [
    "# TODO: ChapterMatcher\n",
    "# TODO: ChapterTagger (number)\n",
    "# TODO: pattern injection into pipline components"
   ]
  },
  {
   "cell_type": "code",
   "execution_count": 11,
   "id": "baa6f1fc",
   "metadata": {
    "tags": []
   },
   "outputs": [],
   "source": [
    "pipeline = Pipeline([\n",
    "    (\"create documents\", pipes.DocumentMatcher()),\n",
    "    (\"extract paragraphs\", pipes.ParagraphMatcher()),\n",
    "    (\"extract verses\", pipes.VerseMatcher()),\n",
    "    (\"language tag paragraphs\", pipes.ParagraphLanguageTagger()),\n",
    "    (\"language tag verses\", pipes.VerseLanguageTagger()),\n",
    "    (\"extract verses to DataFrame\", pipes.DataframeTransformer()),\n",
    "    (\"replace annotation\", pipes.AnnotationRemover())\n",
    "])"
   ]
  },
  {
   "cell_type": "code",
   "execution_count": 15,
   "id": "b3e264c2",
   "metadata": {},
   "outputs": [],
   "source": [
    "processed = pipeline.process(texts)\n",
    "df = processed.copy()"
   ]
  },
  {
   "cell_type": "code",
   "execution_count": null,
   "id": "7d88d49a",
   "metadata": {},
   "outputs": [],
   "source": [
    "# save\n",
    "#pd.to_pickle(df, dfpath.as_posix())"
   ]
  },
  {
   "cell_type": "code",
   "execution_count": 17,
   "id": "7e8895da",
   "metadata": {},
   "outputs": [],
   "source": [
    "# load\n",
    "df = pd.read_pickle(dfpath.as_posix())"
   ]
  }
 ],
 "metadata": {
  "kernelspec": {
   "display_name": "Python 3",
   "language": "python",
   "name": "python3"
  },
  "language_info": {
   "codemirror_mode": {
    "name": "ipython",
    "version": 3
   },
   "file_extension": ".py",
   "mimetype": "text/x-python",
   "name": "python",
   "nbconvert_exporter": "python",
   "pygments_lexer": "ipython3",
   "version": "3.8.8"
  }
 },
 "nbformat": 4,
 "nbformat_minor": 5
}
